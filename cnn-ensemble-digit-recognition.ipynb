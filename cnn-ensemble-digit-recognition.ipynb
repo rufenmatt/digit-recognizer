{
  "nbformat": 4,
  "nbformat_minor": 0,
  "metadata": {
    "kernelspec": {
      "display_name": "Python 3",
      "language": "python",
      "name": "python3"
    },
    "language_info": {
      "name": "python",
      "version": "3.6.4",
      "mimetype": "text/x-python",
      "codemirror_mode": {
        "name": "ipython",
        "version": 3
      },
      "pygments_lexer": "ipython3",
      "nbconvert_exporter": "python",
      "file_extension": ".py"
    },
    "colab": {
      "name": "cnn-ensemble-digit-recognition.ipynb",
      "provenance": [],
      "collapsed_sections": []
    },
    "accelerator": "GPU"
  },
  "cells": [
    {
      "cell_type": "code",
      "metadata": {
        "trusted": true,
        "_uuid": "a8411c264c011affb4288c66e435e7f5f6c85604",
        "_kg_hide-input": false,
        "_kg_hide-output": true,
        "id": "DqDzEXNV98TM",
        "colab_type": "code",
        "colab": {}
      },
      "source": [
        "import pandas as pd\n",
        "import numpy as np\n",
        "import matplotlib as plt\n",
        "from sklearn.model_selection import train_test_split\n",
        "\n",
        "from keras.utils.np_utils import to_categorical\n",
        "from keras.models import Sequential\n",
        "from keras.layers import Dense, Dropout, Flatten, Conv2D, MaxPool2D, BatchNormalization\n",
        "from keras.preprocessing.image import ImageDataGenerator\n",
        "from keras.callbacks import LearningRateScheduler\n",
        "from keras.datasets import mnist"
      ],
      "execution_count": 11,
      "outputs": []
    },
    {
      "cell_type": "code",
      "metadata": {
        "_uuid": "8f2839f25d086af736a60e9eeb907d3b93b6e0e5",
        "_cell_guid": "b1076dfc-b9ad-4769-8c92-a6c4dae69d19",
        "trusted": true,
        "id": "cbobPoyF98TT",
        "colab_type": "code",
        "colab": {
          "base_uri": "https://localhost:8080/",
          "height": 51
        },
        "outputId": "3177d759-bfc7-426d-d04e-1d144949d1dd"
      },
      "source": [
        "(x_train, y_train), (x_test, y_test) = mnist.load_data()"
      ],
      "execution_count": 2,
      "outputs": [
        {
          "output_type": "stream",
          "text": [
            "Downloading data from https://storage.googleapis.com/tensorflow/tf-keras-datasets/mnist.npz\n",
            "11493376/11490434 [==============================] - 0s 0us/step\n"
          ],
          "name": "stdout"
        }
      ]
    },
    {
      "cell_type": "code",
      "metadata": {
        "trusted": true,
        "_uuid": "24d4db9cf6ed9d45b78b65f06ad333fc4b05f8d2",
        "_kg_hide-input": false,
        "id": "aWg6OF4Y98TX",
        "colab_type": "code",
        "colab": {}
      },
      "source": [
        "# data prep\n",
        "X_train = x_train / 255.0\n",
        "X_test = x_test / 255.0\n",
        "X_train = X_train.reshape(-1,28,28,1)\n",
        "X_test = X_test.reshape(-1,28,28,1)\n",
        "Y_train = to_categorical(y_train, num_classes = 10)"
      ],
      "execution_count": 3,
      "outputs": []
    },
    {
      "cell_type": "code",
      "metadata": {
        "trusted": true,
        "_uuid": "5f518935da8ae1b48e6e9a441b5f973f69210e63",
        "id": "0l5ytYPM98Te",
        "colab_type": "code",
        "colab": {}
      },
      "source": [
        "# enlargement of training set through data augmentation\n",
        "datagen = ImageDataGenerator(\n",
        "        rotation_range=15,\n",
        "        zoom_range = 0.15,  \n",
        "        width_shift_range=0.1, \n",
        "        height_shift_range=0.1)"
      ],
      "execution_count": 4,
      "outputs": []
    },
    {
      "cell_type": "code",
      "metadata": {
        "trusted": true,
        "_uuid": "acb0d6d03254aedbf87063d6066068e6688e094c",
        "id": "lfz4DWbQ98Ti",
        "colab_type": "code",
        "colab": {}
      },
      "source": [
        "# setting up the cnn ensamble\n",
        "nets = 15\n",
        "model = [0] *nets\n",
        "for j in range(nets):\n",
        "    model[j] = Sequential()\n",
        "\n",
        "    model[j].add(Conv2D(32, kernel_size = 3, activation='relu', input_shape = (28, 28, 1)))\n",
        "    model[j].add(BatchNormalization())\n",
        "    model[j].add(Conv2D(32, kernel_size = 3, activation='relu'))\n",
        "    model[j].add(BatchNormalization())\n",
        "    model[j].add(Conv2D(32, kernel_size = 5, strides=2, padding='same', activation='relu'))\n",
        "    model[j].add(BatchNormalization())\n",
        "    model[j].add(Dropout(0.4))\n",
        "\n",
        "    model[j].add(Conv2D(64, kernel_size = 3, activation='relu'))\n",
        "    model[j].add(BatchNormalization())\n",
        "    model[j].add(Conv2D(64, kernel_size = 3, activation='relu'))\n",
        "    model[j].add(BatchNormalization())\n",
        "    model[j].add(Conv2D(64, kernel_size = 5, strides=2, padding='same', activation='relu'))\n",
        "    model[j].add(BatchNormalization())\n",
        "    model[j].add(Dropout(0.4))\n",
        "\n",
        "    model[j].add(Conv2D(128, kernel_size = 4, activation='relu'))\n",
        "    model[j].add(BatchNormalization())\n",
        "    model[j].add(Flatten())\n",
        "    model[j].add(Dropout(0.4))\n",
        "    model[j].add(Dense(10, activation='softmax'))\n",
        "\n",
        "    # compiling model\n",
        "    model[j].compile(optimizer=\"adam\", loss=\"categorical_crossentropy\", metrics=[\"accuracy\"])"
      ],
      "execution_count": 5,
      "outputs": []
    },
    {
      "cell_type": "code",
      "metadata": {
        "trusted": true,
        "_uuid": "72eb364290d4d06d9965ede3477b62057294c8b7",
        "scrolled": false,
        "id": "Ol_iYQFv98Tn",
        "colab_type": "code",
        "colab": {
          "base_uri": "https://localhost:8080/",
          "height": 527
        },
        "outputId": "9794dd7c-e6ea-4485-b0e1-586673798f82"
      },
      "source": [
        "# decrease learning rateby by 0.95 each epoch\n",
        "annealer = LearningRateScheduler(lambda x: 1e-3 * 0.95 ** x)\n",
        "\n",
        "# train cnns and display accuracies\n",
        "epochs = 30\n",
        "history = [0] * nets\n",
        "results = [0] * nets\n",
        "for j in range(nets):\n",
        "    X_train2, X_val2, Y_train2, Y_val2 = train_test_split(X_train, Y_train, test_size = 0.1)\n",
        "    history[j] = model[j].fit_generator(datagen.flow(X_train2,Y_train2, batch_size=64),\n",
        "      epochs = epochs, steps_per_epoch = X_train2.shape[0]//64,\n",
        "      validation_data = (X_val2,Y_val2), callbacks=[annealer], verbose=0)\n",
        "    print(\"CNN {0:d}: Epochs={1:d}, Train accuracy={2:.5f}, Validation accuracy={3:.5f}\".format\n",
        "      (j+1,epochs,history[j].history['accuracy'][epochs-1],history[j].history['val_accuracy'][epochs-1]))\n",
        "    \n",
        "    # predicting digits for cnn j based on 10k mnist test set\n",
        "    results[j] = model[j].predict(X_test)\n",
        "    results2 = np.argmax(results[j],axis = 1)\n",
        "\n",
        "    # calculating cnn j accuracy\n",
        "    c=0\n",
        "    for i in range(10000):\n",
        "        if results2[i]!=y_test[i]:\n",
        "            c +=1\n",
        "    print(\"CNN %d: Test accuracy = %f\" % (j+1,1-c/10000.))"
      ],
      "execution_count": 7,
      "outputs": [
        {
          "output_type": "stream",
          "text": [
            "CNN 1: Epochs=30, Train accuracy=0.99509, Validation accuracy=0.99750\n",
            "CNN 1: Test accuracy = 0.996800\n",
            "CNN 2: Epochs=30, Train accuracy=0.99329, Validation accuracy=0.99717\n",
            "CNN 2: Test accuracy = 0.996400\n",
            "CNN 3: Epochs=30, Train accuracy=0.99320, Validation accuracy=0.99717\n",
            "CNN 3: Test accuracy = 0.996600\n",
            "CNN 4: Epochs=30, Train accuracy=0.99333, Validation accuracy=0.99667\n",
            "CNN 4: Test accuracy = 0.996600\n",
            "CNN 5: Epochs=30, Train accuracy=0.99397, Validation accuracy=0.99500\n",
            "CNN 5: Test accuracy = 0.995900\n",
            "CNN 6: Epochs=30, Train accuracy=0.99394, Validation accuracy=0.99750\n",
            "CNN 6: Test accuracy = 0.996700\n",
            "CNN 7: Epochs=30, Train accuracy=0.99355, Validation accuracy=0.99533\n",
            "CNN 7: Test accuracy = 0.996500\n",
            "CNN 8: Epochs=30, Train accuracy=0.99366, Validation accuracy=0.99517\n",
            "CNN 8: Test accuracy = 0.996600\n",
            "CNN 9: Epochs=30, Train accuracy=0.99362, Validation accuracy=0.99717\n",
            "CNN 9: Test accuracy = 0.996700\n",
            "CNN 10: Epochs=30, Train accuracy=0.99388, Validation accuracy=0.99667\n",
            "CNN 10: Test accuracy = 0.996900\n",
            "CNN 11: Epochs=30, Train accuracy=0.99368, Validation accuracy=0.99683\n",
            "CNN 11: Test accuracy = 0.995900\n",
            "CNN 12: Epochs=30, Train accuracy=0.99368, Validation accuracy=0.99467\n",
            "CNN 12: Test accuracy = 0.996500\n",
            "CNN 13: Epochs=30, Train accuracy=0.99390, Validation accuracy=0.99367\n",
            "CNN 13: Test accuracy = 0.995700\n",
            "CNN 14: Epochs=30, Train accuracy=0.99297, Validation accuracy=0.99667\n",
            "CNN 14: Test accuracy = 0.996400\n",
            "CNN 15: Epochs=30, Train accuracy=0.99349, Validation accuracy=0.99650\n",
            "CNN 15: Test accuracy = 0.996800\n"
          ],
          "name": "stdout"
        }
      ]
    },
    {
      "cell_type": "code",
      "metadata": {
        "trusted": true,
        "_uuid": "ad8897d11d9029b11e019dfbaa51fad5fc2b78e0",
        "id": "oZAmn3UM98Tr",
        "colab_type": "code",
        "colab": {
          "base_uri": "https://localhost:8080/",
          "height": 34
        },
        "outputId": "d898e60c-3cc4-44d4-993d-dd03d37e8b3a"
      },
      "source": [
        "# predicting digits for ensemble based on 10k mnist test set\n",
        "results2 = np.zeros( (X_test.shape[0],10) )\n",
        "for j in range(nets):\n",
        "    results2 = results2 + results[j]\n",
        "results2 = np.argmax(results2,axis = 1)\n",
        " \n",
        "# calculating ensemble accuracy\n",
        "c=0\n",
        "for i in range(10000):\n",
        "    if results2[i]!=y_test[i]:\n",
        "        c +=1\n",
        "print(\"Ensemble Accuracy = %f\" % (1-c/10000.))"
      ],
      "execution_count": 8,
      "outputs": [
        {
          "output_type": "stream",
          "text": [
            "Ensemble Accuracy = 0.997600\n"
          ],
          "name": "stdout"
        }
      ]
    }
  ]
}